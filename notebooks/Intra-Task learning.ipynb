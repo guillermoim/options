{
 "cells": [
  {
   "cell_type": "code",
   "execution_count": 21,
   "id": "723f9fff-cf89-4b48-9e34-8214966a630a",
   "metadata": {},
   "outputs": [],
   "source": [
    "%matplotlib widget\n",
    "%load_ext autoreload\n",
    "%autoreload 2\n",
    "import sys\n",
    "sys.path.insert(0, '..')\n",
    "from lmdps import hierarchical_gridworld as HG\n",
    "import numpy as np\n",
    "import random\n",
    "from lmdps.plotting import plot_as_matrix as plotmat\n",
    "import matplotlib.pyplot as plt"
   ]
  },
  {
   "cell_type": "code",
   "execution_count": 16,
   "id": "211e596e-fbcc-4e9b-b8ec-60905f41dbd7",
   "metadata": {},
   "outputs": [],
   "source": [
    "def get_rewards(state_idx):\n",
    "    \n",
    "    r = np.full((5,1), -1)\n",
    "    \n",
    "    if state_idx == 25:\n",
    "        r[0] = 0\n",
    "    elif state_idx == 26:\n",
    "        r[1] = 0\n",
    "    elif state_idx == 27:\n",
    "        r[2] = 0\n",
    "    elif state_idx == 28:\n",
    "        r[3] = 0\n",
    "    elif state_idx == 29:\n",
    "        r[4] = 0\n",
    "\n",
    "    return r"
   ]
  },
  {
   "cell_type": "code",
   "execution_count": 17,
   "id": "8a1b2322",
   "metadata": {},
   "outputs": [],
   "source": [
    "def get_importance_weights(P, Z_i, state_idx, next_state_idx):\n",
    "        if state_idx>24:\n",
    "            return P[state_idx, next_state_idx]\n",
    "        else:\n",
    "            values = P[state_idx, next_state_idx] * Z_i[:, next_state_idx]\n",
    "            sums = np.einsum('j,ij->i', P[state_idx, :], Z_i)\n",
    "                        \n",
    "            res = (values / sums).reshape(-1, 1)\n",
    "\n",
    "            return P[state_idx, next_state_idx] / res"
   ]
  },
  {
   "cell_type": "code",
   "execution_count": 18,
   "id": "a77787cd-ff2c-41f6-b455-fe74ddabecdf",
   "metadata": {},
   "outputs": [],
   "source": [
    "r_dim = 5\n",
    "\n",
    "goal_pos = (2,3)\n",
    "\n",
    "t_map = {(0, -1, r_dim // 2): (0, 0, r_dim // 2),\n",
    "             (0, r_dim // 2, -1): (0, r_dim // 2, 0),\n",
    "             (0, 2, 5): (0, 2, r_dim - 1),\n",
    "             (0, 5, 2): (0, r_dim - 1, 2),\n",
    "             (1, *goal_pos): (0, *goal_pos)}\n",
    "\n",
    "P, graph = HG._create_room_hierarchical(r_dim, t_map)\n",
    "\n",
    "states=list(graph.nodes())\n",
    "non_terminal = states[-5:]"
   ]
  },
  {
   "cell_type": "code",
   "execution_count": 19,
   "id": "97364935-3e60-4b53-b0b7-eabf9ba1dd21",
   "metadata": {},
   "outputs": [],
   "source": [
    "Z = np.ones((5, 30))\n",
    "\n",
    "P = np.asarray(P)\n",
    "\n",
    "for t in range(900):\n",
    "    \n",
    "    state = random.choice(range(25))\n",
    "    \n",
    "    terminate = False\n",
    "    \n",
    "    alfa = 500 / (500 + t + 1)\n",
    "    \n",
    "    while not terminate:\n",
    "        r = get_rewards(state)\n",
    "        next_state = np.random.choice(range(30), p=P[state])\n",
    "        \n",
    "        w_i_a = get_importance_weights(P, Z, state, next_state)\n",
    "        \n",
    "        Z[:, state] = (1 - alfa) * Z[:, state] + alfa * np.exp(r).T * Z[:, next_state]\n",
    "                \n",
    "        terminate = state > 24\n",
    "        state = next_state\n",
    "        "
   ]
  },
  {
   "cell_type": "code",
   "execution_count": 20,
   "id": "2d57654b-a60b-4d50-a7f6-f6b0776e7bda",
   "metadata": {},
   "outputs": [
    {
     "data": {
      "image/png": "[encoded data removed]",
      "text/plain": [
       "<Figure size 432x432 with 1 Axes>"
      ]
     },
     "metadata": {
      "needs_background": "light"
     },
     "output_type": "display_data"
    }
   ],
   "source": [
    "plotmat(np.log(Z[4, :25]).reshape(5,5), 'whatever', annotated=True, figsize=(6,6))\n",
    "plt.show()"
   ]
  },
  {
   "cell_type": "code",
   "execution_count": null,
   "id": "75dc6ea9",
   "metadata": {},
   "outputs": [],
   "source": []
  },
  {
   "cell_type": "code",
   "execution_count": null,
   "id": "ec8855b0-4f45-494b-9d19-eaeb35ef3bf9",
   "metadata": {},
   "outputs": [],
   "source": []
  }
 ],
 "metadata": {
  "kernelspec": {
   "display_name": "Python 3",
   "language": "python",
   "name": "python3"
  },
  "language_info": {
   "codemirror_mode": {
    "name": "ipython",
    "version": 3
   },
   "file_extension": ".py",
   "mimetype": "text/x-python",
   "name": "python",
   "nbconvert_exporter": "python",
   "pygments_lexer": "ipython3",
   "version": "3.7.9"
  }
 },
 "nbformat": 4,
 "nbformat_minor": 5
}